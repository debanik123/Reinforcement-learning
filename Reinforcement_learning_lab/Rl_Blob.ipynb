{
 "cells": [
  {
   "cell_type": "code",
   "execution_count": 1,
   "metadata": {},
   "outputs": [],
   "source": [
    "import numpy as np\n",
    "from PIL import Image\n",
    "import cv2\n",
    "import matplotlib.pyplot as plt\n",
    "import pickle\n",
    "from matplotlib import style\n",
    "import time"
   ]
  },
  {
   "cell_type": "code",
   "execution_count": 2,
   "metadata": {},
   "outputs": [],
   "source": [
    "style.use(\"ggplot\")"
   ]
  },
  {
   "cell_type": "code",
   "execution_count": 3,
   "metadata": {},
   "outputs": [],
   "source": [
    "SIZE = 10"
   ]
  },
  {
   "cell_type": "code",
   "execution_count": 4,
   "metadata": {},
   "outputs": [],
   "source": [
    "HM_EPISODES = 25000\n",
    "MOVE_PENALTY = 1\n",
    "ENEMY_PENALTY = 300\n",
    "FOOD_REWARD = 25"
   ]
  },
  {
   "cell_type": "code",
   "execution_count": 5,
   "metadata": {},
   "outputs": [],
   "source": [
    "epsilon = 0.9\n",
    "EPS_DECAY = 0.9998\n",
    "SHOW_EVERY = 3000\n",
    "\n",
    "start_q_table  = None"
   ]
  },
  {
   "cell_type": "code",
   "execution_count": 6,
   "metadata": {},
   "outputs": [],
   "source": [
    "lr_rate = 0.1\n",
    "gamma = 0.95"
   ]
  },
  {
   "cell_type": "code",
   "execution_count": 7,
   "metadata": {},
   "outputs": [],
   "source": [
    "player_n = 1\n",
    "food_n = 2\n",
    "enemy_n = 3\n"
   ]
  },
  {
   "cell_type": "code",
   "execution_count": 8,
   "metadata": {},
   "outputs": [],
   "source": [
    "d = {1:(255,175,0),\n",
    "    2:(0,255,0),\n",
    "    3:(0,0,255)}"
   ]
  },
  {
   "cell_type": "code",
   "execution_count": 9,
   "metadata": {},
   "outputs": [],
   "source": [
    "class Blob:\n",
    "    def __init__(self):\n",
    "        self.x = np.random.randint(0,SIZE)\n",
    "        self.y = np.random.randint(0,SIZE)\n",
    "    def __str__(self):\n",
    "        return f\"{self.x},{self.y}\"\n",
    "    def __sub__(self,other):\n",
    "        return (self.x - other.x,self.y - other.y)\n",
    "    def action(self,choice):\n",
    "        if choice == 0:\n",
    "            self.move(x = 1, y = 1)\n",
    "        elif choice == 1:\n",
    "            self.move(x = -1, y = -1)\n",
    "        elif choice == 2:\n",
    "            self.move(x = -1, y = 1)\n",
    "        elif choice == 3:\n",
    "            self.move(x = 1, y = -1)\n",
    "        \n",
    "    def move(self,x = False, y=False):\n",
    "        if not x:\n",
    "            self.x += np.random.randint(-1,2)\n",
    "        else:\n",
    "            self.x += x\n",
    "        if not y:\n",
    "            self.y += np.random.randint(-1,2)\n",
    "        else:\n",
    "            self.y += y\n",
    "        \n",
    "        if self.x <0:\n",
    "            self.x = 0\n",
    "        elif self.x > SIZE - 1:\n",
    "            self.x = SIZE - 1\n",
    "        \n",
    "        if self.y <0:\n",
    "            self.y = 0\n",
    "        elif self.y > SIZE - 1:\n",
    "            self.y = SIZE - 1"
   ]
  },
  {
   "cell_type": "code",
   "execution_count": 10,
   "metadata": {},
   "outputs": [],
   "source": [
    "if start_q_table is None:\n",
    "    q_table = {}\n",
    "    for x1 in range(-SIZE+1,SIZE):\n",
    "        for y1 in range(-SIZE+1,SIZE):\n",
    "            for x2 in range(-SIZE+1,SIZE):\n",
    "                for y2 in range(-SIZE+1,SIZE):\n",
    "                    q_table[((x1,y1),(x2,y2))] = [np.random.uniform(-5,0) for i in range(4)]\n",
    "        \n",
    "else:\n",
    "    with open(start_q_table,\"rb\") as f:\n",
    "        q_table = pickle.load(f)"
   ]
  },
  {
   "cell_type": "code",
   "execution_count": 11,
   "metadata": {},
   "outputs": [
    {
     "name": "stdout",
     "output_type": "stream",
     "text": [
      "on # 0, epsilon0.9\n",
      "3000 ep mean nan\n"
     ]
    },
    {
     "name": "stderr",
     "output_type": "stream",
     "text": [
      "C:\\Users\\Debanik Roy\\Anaconda3\\lib\\site-packages\\numpy\\core\\fromnumeric.py:3118: RuntimeWarning: Mean of empty slice.\n",
      "  out=out, **kwargs)\n",
      "C:\\Users\\Debanik Roy\\Anaconda3\\lib\\site-packages\\numpy\\core\\_methods.py:85: RuntimeWarning: invalid value encountered in double_scalars\n",
      "  ret = ret.dtype.type(ret / rcount)\n"
     ]
    },
    {
     "name": "stdout",
     "output_type": "stream",
     "text": [
      "on # 3000, epsilon0.49390083359356435\n",
      "3000 ep mean -614.0846666666666\n",
      "on # 6000, epsilon0.27104225936046566\n",
      "3000 ep mean -197.84633333333332\n",
      "on # 9000, epsilon0.14874221981913022\n",
      "3000 ep mean 68.63633333333334\n",
      "on # 12000, epsilon0.08162656262136181\n",
      "3000 ep mean 189.961\n",
      "on # 15000, epsilon0.044794919246742226\n",
      "3000 ep mean 262.59633333333335\n",
      "on # 18000, epsilon0.024582497729691496\n",
      "3000 ep mean 268.8883333333333\n",
      "on # 21000, epsilon0.01349035124500733\n",
      "3000 ep mean 287.6213333333333\n",
      "on # 24000, epsilon0.0074032174726434705\n",
      "3000 ep mean 288.00266666666664\n"
     ]
    },
    {
     "data": {
      "image/png": "[encoded data removed]",
      "text/plain": [
       "<Figure size 432x288 with 1 Axes>"
      ]
     },
     "metadata": {},
     "output_type": "display_data"
    }
   ],
   "source": [
    "episode_rewards = []\n",
    "for episode in range(HM_EPISODES):\n",
    "    player = Blob()\n",
    "    food = Blob()\n",
    "    enemy = Blob()\n",
    "    \n",
    "    if episode % SHOW_EVERY == 0:\n",
    "        print(f\"on # {episode}, epsilon{epsilon}\")\n",
    "        print(f\"{SHOW_EVERY} ep mean {np.mean(episode_rewards[-SHOW_EVERY:])}\")\n",
    "        show = True\n",
    "    else:\n",
    "        show = False\n",
    "    episode_reward = 0\n",
    "    for i in range(200):\n",
    "        obs = (player - food, player - enemy)\n",
    "        if np.random.random() > epsilon:\n",
    "            action = np.argmax(q_table[obs])\n",
    "        else:\n",
    "            action = np.random.randint(0, 4)\n",
    "        player.action(action)\n",
    "        enemy.move()\n",
    "        food.move()\n",
    "        \n",
    "        \n",
    "        if player.x == enemy.x and player.y == enemy.y:\n",
    "            reward = -ENEMY_PENALTY\n",
    "        elif player.x == food.x and player.y == food.y:\n",
    "            reward = FOOD_REWARD\n",
    "        else:\n",
    "            reward = -MOVE_PENALTY\n",
    "        new_obs = (player-food,player-enemy)\n",
    "        max_future_q = np.max(q_table[new_obs])\n",
    "        current_q = q_table[obs][action]\n",
    "        \n",
    "        if reward == FOOD_REWARD:\n",
    "            new_q = FOOD_REWARD\n",
    "        elif reward == -ENEMY_PENALTY:\n",
    "            new_q = -ENEMY_PENALTY\n",
    "        else:\n",
    "            new_q = (1 - lr_rate)*(current_q) + lr_rate*(reward + gamma*max_future_q)\n",
    "        \n",
    "        q_table[obs][action] = new_q\n",
    "        \n",
    "        if show:\n",
    "            env = np.zeros((SIZE,SIZE,3),dtype =np.uint8 )\n",
    "            env[food.y,food.x] = d[food_n]\n",
    "            env[player.y,player.x] = d[player_n]\n",
    "            env[enemy.y,enemy.x] = d[enemy_n]\n",
    "            \n",
    "            img = Image.fromarray(env,\"RGB\")\n",
    "            img = img.resize((300,300))\n",
    "            cv2.imshow(\"img\",np.array(img))\n",
    "            \n",
    "            if reward == FOOD_REWARD and reward == -ENEMY_PENALTY:\n",
    "                if cv2.waitKey(500) & 0xFF == ord(\"q\"):\n",
    "                    break\n",
    "            else:\n",
    "                if cv2.waitKey(1) & 0xFF == ord(\"q\"):\n",
    "                    break\n",
    "        episode_reward += reward\n",
    "        if reward ==FOOD_REWARD & reward == -ENEMY_PENALTY:\n",
    "            break\n",
    "    episode_rewards.append(episode_reward)\n",
    "    epsilon *= EPS_DECAY\n",
    "moving_avg = np.convolve(episode_rewards,np.ones((SHOW_EVERY,))/SHOW_EVERY,mode=\"valid\")\n",
    "plt.plot([i for i in range(len(moving_avg))],moving_avg)\n",
    "plt.ylabel(f\"rward{SHOW_EVERY}ma\")\n",
    "plt.xlabel(\"episode #\")\n",
    "plt.show()\n",
    "\n",
    "with open(f\"qtable-{int(time.time())}.pickle\",\"wb\") as f:\n",
    "    pickle.dump(q_table,f)"
   ]
  },
  {
   "cell_type": "code",
   "execution_count": null,
   "metadata": {},
   "outputs": [],
   "source": []
  }
 ],
 "metadata": {
  "kernelspec": {
   "display_name": "Python 3",
   "language": "python",
   "name": "python3"
  },
  "language_info": {
   "codemirror_mode": {
    "name": "ipython",
    "version": 3
   },
   "file_extension": ".py",
   "mimetype": "text/x-python",
   "name": "python",
   "nbconvert_exporter": "python",
   "pygments_lexer": "ipython3",
   "version": "3.7.3"
  }
 },
 "nbformat": 4,
 "nbformat_minor": 2
}
